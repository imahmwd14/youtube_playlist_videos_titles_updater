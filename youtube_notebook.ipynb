{
 "metadata": {
  "language_info": {
   "codemirror_mode": {
    "name": "ipython",
    "version": 3
   },
   "file_extension": ".py",
   "mimetype": "text/x-python",
   "name": "python",
   "nbconvert_exporter": "python",
   "pygments_lexer": "ipython3",
   "version": "3.9.0-final"
  },
  "orig_nbformat": 2,
  "kernelspec": {
   "name": "python3",
   "display_name": "Python 3.9.0 64-bit",
   "metadata": {
    "interpreter": {
     "hash": "54c89613641062dfb2a2e22da9b3d7d9475f451ddf704c6a9a6258bfa62dc720"
    }
   }
  }
 },
 "nbformat": 4,
 "nbformat_minor": 2,
 "cells": [
  {
   "cell_type": "code",
   "execution_count": null,
   "metadata": {},
   "outputs": [],
   "source": [
    "import os\n",
    "\n",
    "import google_auth_oauthlib.flow\n",
    "import googleapiclient.discovery\n",
    "import googleapiclient.errors\n",
    "\n",
    "scopes = [\n",
    "    \"https://www.googleapis.com/auth/youtubepartner\",\n",
    "    \"https://www.googleapis.com/auth/youtube\",\n",
    "    \"https://www.googleapis.com/auth/youtube.force-ssl\"\n",
    "]"
   ]
  },
  {
   "cell_type": "code",
   "execution_count": null,
   "metadata": {},
   "outputs": [],
   "source": [
    "playlist_ID = \"\"\n",
    "string_to_add_to_titles = \"\""
   ]
  },
  {
   "cell_type": "code",
   "execution_count": null,
   "metadata": {},
   "outputs": [],
   "source": [
    "os.environ[\"OAUTHLIB_INSECURE_TRANSPORT\"] = \"1\"\n",
    "\n",
    "api_service_name = \"youtube\"\n",
    "api_version = \"v3\"\n",
    "client_secrets_file = \"YOUR_CLIENT_SECRET_FILE.json\"\n",
    "\n",
    "# Get credentials and create an API client\n",
    "flow = google_auth_oauthlib.flow.InstalledAppFlow.from_client_secrets_file(client_secrets_file, scopes)\n",
    "credentials = flow.run_console()\n",
    "youtube = googleapiclient.discovery.build(api_service_name, api_version, credentials=credentials)"
   ]
  },
  {
   "cell_type": "code",
   "execution_count": null,
   "metadata": {},
   "outputs": [],
   "source": [
    "request = youtube.playlistItems().list(\n",
    "        part=\"snippet,contentDetails\",\n",
    "        maxResults=100,\n",
    "        playlistId=playlist_ID,\n",
    "        prettyPrint=True,\n",
    "        pageToken=\"\"\n",
    "    )"
   ]
  },
  {
   "cell_type": "code",
   "execution_count": null,
   "metadata": {},
   "outputs": [],
   "source": [
    "response = request.execute()"
   ]
  },
  {
   "cell_type": "code",
   "execution_count": null,
   "metadata": {},
   "outputs": [],
   "source": [
    "video_ids = []\n",
    "responses = [response]"
   ]
  },
  {
   "cell_type": "code",
   "execution_count": null,
   "metadata": {},
   "outputs": [],
   "source": [
    "curr_token = response['nextPageToken']\n",
    "curr_res = response\n",
    "while 'nextPageToken' in curr_res:\n",
    "    curr_res = youtube.playlistItems().list(\n",
    "            part=\"snippet,contentDetails\",\n",
    "            maxResults=100,\n",
    "            playlistId=playlist_ID,\n",
    "            prettyPrint=True,\n",
    "            pageToken=curr_token\n",
    "        ).execute()\n",
    "    responses += [curr_res]\n",
    "    curr_token = curr_res['nextPageToken']"
   ]
  },
  {
   "cell_type": "code",
   "execution_count": null,
   "metadata": {},
   "outputs": [],
   "source": [
    "video_ids = []\n",
    "for res in responses:\n",
    "    for i in res['items']:\n",
    "        video_ids += [i['snippet']['resourceId']['videoId']]"
   ]
  },
  {
   "cell_type": "code",
   "execution_count": null,
   "metadata": {},
   "outputs": [],
   "source": [
    "for v_id in video_ids:\n",
    "    print(v_id)"
   ]
  },
  {
   "cell_type": "code",
   "execution_count": null,
   "metadata": {},
   "outputs": [],
   "source": [
    "videos_responses = []"
   ]
  },
  {
   "cell_type": "code",
   "execution_count": null,
   "metadata": {},
   "outputs": [],
   "source": [
    "for vId in video_ids:\n",
    "    videos_responses += [youtube.videos().list(\n",
    "        part=\"snippet,contentDetails\",\n",
    "        id=vId\n",
    "    ).execute()]"
   ]
  },
  {
   "cell_type": "code",
   "execution_count": null,
   "metadata": {},
   "outputs": [],
   "source": [
    "len(videos_responses)"
   ]
  },
  {
   "cell_type": "code",
   "execution_count": null,
   "metadata": {},
   "outputs": [],
   "source": [
    "print('-----')\n",
    "videos_responses[0]['items'][0]['snippet']\n",
    "videos_responses[0]['items'][0]"
   ]
  },
  {
   "cell_type": "code",
   "execution_count": null,
   "metadata": {},
   "outputs": [],
   "source": [
    "for v in videos_responses:\n",
    "    v['items'][0]['snippet']['title'] = v['items'][0]['snippet']['title'].strip() + string_to_add_to_titles"
   ]
  },
  {
   "cell_type": "code",
   "execution_count": null,
   "metadata": {},
   "outputs": [],
   "source": [
    "# for num in range(len(videos_responses)):\n",
    "#     try:\n",
    "#         youtube.videos().update(\n",
    "#             part=\"snippet\",\n",
    "#             body={\n",
    "#                 \"id\": videos_responses[num]['items'][0]['id'],\n",
    "#                 \"snippet\": {\n",
    "#                     \"categoryId\": videos_responses[num]['items'][0]['snippet']['categoryId'],\n",
    "#                     \"defaultLanguage\": videos_responses[num]['items'][0]['snippet']['defaultLanguage'],\n",
    "#                     \"description\": videos_responses[num]['items'][0]['snippet']['description'],\n",
    "#                     \"tags\": videos_responses[num]['items'][0]['snippet']['tags'],\n",
    "#                     \"title\": videos_responses[num]['items'][0]['snippet']['title']\n",
    "#                 }\n",
    "#             }\n",
    "#         ).execute()\n",
    "#     except:\n",
    "#         pass"
   ]
  },
  {
   "cell_type": "code",
   "execution_count": null,
   "metadata": {},
   "outputs": [],
   "source": [
    "{\n",
    "        \"id\": videos_responses[0]['items'][0]['id'],\n",
    "        \"snippet\": {\n",
    "            \"categoryId\": videos_responses[0]['items'][0]['snippet']['categoryId'],\n",
    "            \"defaultLanguage\": videos_responses[0]['items'][0]['snippet']['defaultLanguage'],\n",
    "            \"description\": videos_responses[0]['items'][0]['snippet']['description'],\n",
    "            'tags': videos_responses[0]['items'][0]['snippet']['tags'],\n",
    "            \"title\": videos_responses[0]['items'][0]['snippet']['title']\n",
    "          }\n",
    "    }"
   ]
  },
  {
   "cell_type": "code",
   "execution_count": null,
   "metadata": {},
   "outputs": [],
   "source": [
    "response"
   ]
  },
  {
   "cell_type": "code",
   "execution_count": null,
   "metadata": {},
   "outputs": [],
   "source": []
  }
 ]
}